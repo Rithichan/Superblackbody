{
 "cells": [
  {
   "cell_type": "markdown",
   "id": "fd92edc3",
   "metadata": {},
   "source": [
    "#### 1. Define Material Paramaters\n",
    "\n",
    "##### In the code below example values of materials are used but these can be changed \n",
    "\n",
    "a_micron & T_Kelvin = example values to vary     \n",
    "gamma_val & sigma_val = properties of materials used in the paper\n"
   ]
  },
  {
   "cell_type": "code",
   "execution_count": 92,
   "id": "4f784f57",
   "metadata": {},
   "outputs": [
    {
     "name": "stdout",
     "output_type": "stream",
     "text": [
      "Material Parameters:\n",
      "  Gamma: 5.65e+14 s^-1\n",
      "  Sigma: 3.55e+31 s^-2\n",
      "  Temperature: 300.0 K\n",
      "------------------------------\n"
     ]
    }
   ],
   "source": [
    "import numpy as np\n",
    "import tidy3d as td\n",
    "import scipy.constants as sc\n",
    "from scipy.fft import fft, fftfreq\n",
    "import matplotlib.pyplot as plt\n",
    "import os # Import the os module\n",
    "\n",
    "\"\"\"The code generates \"noise\" that represents thermal flucations, then feeds it \n",
    "into tidy3d to simulate the resulting thermal emission\"\"\"\n",
    "\n",
    "\n",
    "# --- 1. Define Material Parameters ---\n",
    "hbar = sc.hbar # Reduced Planck's constant (constnat used in quantum mechanics)\n",
    "k_B = sc.Boltzmann # Boltzmann constant (used in statistical mechanics)\n",
    "c0 = sc.c # Speed of light\n",
    "\n",
    "# Example Material Parameters (as derived from papers, scaled by a_micron)\n",
    "a_micron = 1.0e-6 # Characteristic length in meters (unit cell)\n",
    "gamma_val = 0.3 * (2 * np.pi * c0 / a_micron) # s^-1 (dampning rate of the system)\n",
    "sigma_val = 10 * (4 * np.pi**2 * c0**2 / a_micron**2) # s^-2 (polarization response of the system)\n",
    "\n",
    "T_kelvin = 300.0 # Absolute temperature in Kelvin (Temperature of the system)\n",
    "\n",
    "print(f\"Material Parameters:\")\n",
    "print(f\"  Gamma: {gamma_val:.2e} s^-1\")\n",
    "print(f\"  Sigma: {sigma_val:.2e} s^-2\")\n",
    "print(f\"  Temperature: {T_kelvin} K\")\n",
    "print(\"-\" * 30)"
   ]
  },
  {
   "cell_type": "markdown",
   "id": "a39174a0",
   "metadata": {},
   "source": [
    "#### 2. Simulation Grid and Time steps\n",
    "\n",
    "Thought process to select Yee cell size and the time steps is using `a_micron` as a reference length and also making sure to satsify the CFL condition:\n",
    "\n",
    "**Courant-Friedrichs-Lewy (CFL) Condition (for 3D with uniform grid steps $\\Delta x, \\Delta y, \\Delta z$):**\n",
    "\n",
    "$$c_{max} \\cdot \\Delta t \\cdot \\sqrt{\\frac{1}{(\\Delta x)^2} + \\frac{1}{(\\Delta y)^2} + \\frac{1}{(\\Delta z)^2}} \\le 1$$\n",
    "\n",
    "Where:\n",
    "* $c_{max}$: The maximum speed of light in the simulation domain (typically the speed of light in vacuum, $c_0$).\n",
    "* $\\Delta t$: The time step (temporal resolution).\n",
    "* $\\Delta x, \\Delta y, \\Delta z$: The spatial grid cell sizes along the x, y, and z axes, respectively.\n"
   ]
  },
  {
   "cell_type": "code",
   "execution_count": 93,
   "id": "91a69814",
   "metadata": {},
   "outputs": [
    {
     "name": "stdout",
     "output_type": "stream",
     "text": [
      "Simulation Parameters:\n",
      "  Time step (dt): 0.05 fs\n",
      "  Number of time steps: 1024\n",
      "  Spatial step (dx,dy,dz): 0.10 um\n",
      "  Source volume (DeltaV): 1.00e-21 m^3\n",
      "------------------------------\n"
     ]
    }
   ],
   "source": [
    "\n",
    "\n",
    "dt = 0.05e-15 # seconds (s) - Tidy3D uses seconds for time\n",
    "N_time_steps = 2**10 # Number of time steps (reduced for faster computation/FFT)\n",
    "\n",
    "#10 Yee cells per a_micron using a_micron as a characteristic length.\n",
    "dx_m = 0.1e-6  # meters - Tidy3D uses microns for length\n",
    "dy_m = 0.1e-6\n",
    "dz_m = 0.1e-6\n",
    "\n",
    "Nx_source = 5 # Number of grid points in x-direction\n",
    "Ny_source = 5 # Number of grid points in y-direction\n",
    "Nz_source = 5 # Number of grid points in z-direction\n",
    "\n",
    "DeltaV = dx_m * dy_m * dz_m # m^3\n",
    "\n",
    "print(f\"Simulation Parameters:\")\n",
    "print(f\"  Time step (dt): {dt*1e15:.2f} fs\")\n",
    "print(f\"  Number of time steps: {N_time_steps}\")\n",
    "print(f\"  Spatial step (dx,dy,dz): {dx_m*1e6:.2f} um\")\n",
    "print(f\"  Source volume (DeltaV): {DeltaV:.2e} m^3\")\n",
    "print(\"-\" * 30)"
   ]
  },
  {
   "cell_type": "markdown",
   "id": "35d5f122",
   "metadata": {},
   "source": [
    "#### 3. Calibration step\n",
    "\n",
    "The generation of random current K' involves a normalization for emissivity calculations, which introduces a system-dependent constant. This constant accounts for the discrete nature of the FDTD grid. \n",
    "\n",
    "##### Standard Deviation of Random Term ($K'_{stdev}$):\n",
    "\n",
    "* **Standard Deviation ($K'_{stdev}$):**\n",
    "    * [cite_start]**Formula:** The variance of the normalized random term $K'_{i}(r,t)$ is given by $\\langle|K_{i}^{\\prime}(r,t)|^{2}\\rangle=\\frac{4\\pi^{2}{C^{\\prime}}^{2}}{N\\Delta V}\\sigma\\gamma$\n",
    "        Therefore, the standard deviation is the square root of this variance:\n",
    "        $$K'_{stdev} = \\sqrt{\\frac{4\\pi^{2}{C^{\\prime}}^{2}}{N\\Delta V}\\sigma\\gamma}$$\n",
    "        *(Note: In the code,  `N_time_steps` for `N` and `DeltaV` for $\\Delta V$)*.\n",
    "    * **Variable:** `K_prime_stdev` in the code.\n",
    "\n",
    "We must calibrate C later..."
   ]
  },
  {
   "cell_type": "code",
   "execution_count": 94,
   "id": "2d9c70ab",
   "metadata": {},
   "outputs": [
    {
     "name": "stdout",
     "output_type": "stream",
     "text": [
      "Calculated K_prime_stdev (uncalibrated): 2.28e+19\n",
      "------------------------------\n"
     ]
    }
   ],
   "source": [
    "C_prime_squared_calibrated = 1.0e-12 # Placeholder calibration constant (needs to be calibrated)\n",
    "\n",
    "K_prime_stdev = np.sqrt(sigma_val * gamma_val * N_time_steps * DeltaV / (4 * np.pi**2 * C_prime_squared_calibrated))\n",
    "print(f\"Calculated K_prime_stdev (uncalibrated): {K_prime_stdev:.2e}\")\n",
    "print(\"-\" * 30)"
   ]
  },
  {
   "cell_type": "markdown",
   "id": "7e510ff0",
   "metadata": {},
   "source": [
    "#### 4. Generate Time-Domain Noise (K')"
   ]
  },
  {
   "cell_type": "code",
   "execution_count": 95,
   "id": "ed367d8c",
   "metadata": {},
   "outputs": [
    {
     "name": "stdout",
     "output_type": "stream",
     "text": [
      "Generated 1024 time steps of K' noise for 125 spatial points.\n",
      "------------------------------\n"
     ]
    }
   ],
   "source": [
    "# Generate random numbers for all spatial points and components at once\n",
    "# A 4-dimensional array is created to hold the noise values for Ex, Ey, and Ez\n",
    "k_prime_time_domain = {\n",
    "    'Ex': np.random.normal(loc=0, scale=K_prime_stdev, size=(Nx_source, Ny_source, Nz_source, N_time_steps)),\n",
    "    'Ey': np.random.normal(loc=0, scale=K_prime_stdev, size=(Nx_source, Ny_source, Nz_source, N_time_steps)),\n",
    "    'Ez': np.random.normal(loc=0, scale=K_prime_stdev, size=(Nx_source, Ny_source, Nz_source, N_time_steps))\n",
    "}\n",
    "\n",
    "print(f\"Generated {N_time_steps} time steps of K' noise for {Nx_source*Ny_source*Nz_source} spatial points.\")\n",
    "print(\"-\" * 30)"
   ]
  },
  {
   "cell_type": "markdown",
   "id": "854a8280",
   "metadata": {},
   "source": [
    "#### 5. Fourier Transform to Frequency Domain \n",
    "\n",
    "This section converts the randomly generated time-domain thermal fluctuations (K') into their frequency-domain representation (J_fluct), which will then be used as the source in the Tidy3D simulation\n",
    "\n",
    "\n",
    "\n",
    "The transfer function $H(\\omega) = \\frac{i\\omega}{\\omega^2 + i\\gamma\\omega}$ is used to relate the random noise term $K$ to the fluctuating current density $J_{fluct}$.\n",
    "\n",
    "* [cite_start]**Chan et al.[cite: 1]:** The formula is explicitly stated in the paper.\n",
    "\n",
    "    * [cite_start]\"We also assume that the noise is added to the displacement field $Q$. It can be shown that adding the randomness to the free current density $J$ or to the polarization $P$ yields exactly the same results. The relation between $J$ and $Q$ is $J = \\frac{1}{4\\pi}\\frac{\\partial Q}{\\partial t}$[cite: 1, 36, 143, 150]. In the frequency domain, it reads $J(\\omega) = -i\\omega Q(\\omega)/4\\pi$. [cite_start]The displacement field is related to the noise term $K$ by $Q(r,\\omega)\\equiv\\frac{4\\pi K(r,\\omega)}{\\omega_{0}^{2}-\\omega^{2}-i\\gamma\\omega}$[cite: 1, 35, 142]. In the case of metals $\\omega_0=0$ and we obtain:\n",
    "\n",
    "        $$J(\\omega) = \\frac{i\\omega K(r,\\omega)}{\\omega^{2}+i\\gamma\\omega} = K(r,\\omega)H(\\omega)$$\n",
    "\n",
    "        where\n",
    "\n",
    "        [cite_start]$$H(\\omega) = \\frac{i\\omega}{\\omega^{2}+i\\gamma\\omega}$$\" [cite: 1, 36]\n",
    "\n",
    "* [cite_start]**Luo et al.[cite: 115]:** The same formula is also presented.\n",
    "\n",
    "    * \"In the frequency domain, the fluctuating free-current density $J$ is thus related to $K$ by\n",
    "\n",
    "        $$J(\\omega) = \\frac{i\\omega K(r,\\omega)}{\\omega^{2}+i\\gamma\\omega} = K(r,\\omega)H(\\omega)$$\n",
    "\n",
    "        where\n",
    "\n",
    "        [cite_start]$$H(\\omega) = \\frac{i\\omega}{\\omega^{2}+i\\gamma\\omega}$$\" [cite: 115, 167]\n",
    "\n",
    "[cite_start]This transfer function, $H(\\omega)$, describes how the material's properties (specifically the damping constant $\\gamma$) influence the conversion of the random thermal fluctuations ($K$) into the fluctuating current density ($J$) that ultimately drives the thermal emission. [cite: 1, 36, 115, 167]"
   ]
  },
  {
   "cell_type": "code",
   "execution_count": 96,
   "id": "12e42526",
   "metadata": {},
   "outputs": [
    {
     "name": "stdout",
     "output_type": "stream",
     "text": [
      "Performed FFT and applied transfer function to K' to get J_fluct.\n",
      "------------------------------\n"
     ]
    }
   ],
   "source": [
    "sampling_freq = 1.0 / dt # Hz (the number of samples per second)\n",
    "freqs = fftfreq(N_time_steps, dt) # Frequencies in Hz (from numpy)\n",
    "omega_vals = 2 * np.pi * freqs # Angular frequencies in rad/s\n",
    "\n",
    "# Transfer function H(ω) = iω / (ω^2 + iγω) that relates K to J_fluct\n",
    "transfer_function = np.zeros_like(omega_vals, dtype=np.complex128)\n",
    "non_zero_omega_indices = np.where(omega_vals != 0)\n",
    "transfer_function[non_zero_omega_indices] = (\n",
    "    1j * omega_vals[non_zero_omega_indices] /\n",
    "    (omega_vals[non_zero_omega_indices]**2 + 1j * gamma_val * omega_vals[non_zero_omega_indices])\n",
    ")\n",
    "\n",
    "# Initialize dictionary to store frequency-domain J_fluctuations\n",
    "j_fluct_freq_domain = {\n",
    "    'Ex': np.zeros_like(k_prime_time_domain['Ex'], dtype=np.complex128),\n",
    "    'Ey': np.zeros_like(k_prime_time_domain['Ey'], dtype=np.complex128),\n",
    "    'Ez': np.zeros_like(k_prime_time_domain['Ez'], dtype=np.complex128)\n",
    "}\n",
    "\n",
    "\n",
    "# Perform FFT and apply the transfer function for each spatial point and component\n",
    "# This block iterates through every discrete spatial point within your defined current source volume\n",
    "# and processes the time-domain random noise (K') into frequency-domain current densities (J_fluct).\n",
    "for i in range(Nx_source):\n",
    "    for j in range(Ny_source):\n",
    "        for k in range(Nz_source):\n",
    "            # For every electric field component (Ex, Ey, Ez), perform FFT and apply transfer function\n",
    "            # for a given spatial point along the whole time series.\n",
    "            # The \":\" in the last index indicates that we are processing all time steps for that spatial point as the last dimension is time\n",
    "            for comp in ['Ex', 'Ey', 'Ez']:\n",
    "                fft_data = fft(k_prime_time_domain[comp][i,j,k,:])\n",
    "                j_fluct_freq_domain[comp][i,j,k,:] = fft_data * transfer_function\n",
    "\n",
    "print(f\"Performed FFT and applied transfer function to K' to get J_fluct.\")\n",
    "print(\"-\" * 30)"
   ]
  },
  {
   "cell_type": "markdown",
   "id": "afc23a6e",
   "metadata": {},
   "source": [
    "#### 6. Construct Field dataset for full range (for plotting / reference)\n",
    "\n",
    "Code block below carries out error validation and extracts values that meet the plotting criteria (valid frequencies) and inserts the frequencies into a `td.FieldDataset` object.  \n",
    "The `td.FieldDataset"
   ]
  },
  {
   "cell_type": "code",
   "execution_count": 97,
   "id": "224606b7",
   "metadata": {},
   "outputs": [
    {
     "name": "stdout",
     "output_type": "stream",
     "text": [
      "Successfully created Full FieldDataset for plotting/reference.\n",
      "Full Dataset dimensions (Ex example): (5, 5, 5, 51)\n",
      "Full Frequencies in FieldDataset: 1.95e+13 Hz to 9.96e+14 Hz\n",
      "------------------------------\n"
     ]
    }
   ],
   "source": [
    "# Tidy3D uses microns for length\n",
    "\n",
    "# Convert spatial coordinates to microns for Tidy3D\n",
    "x_coords_um = np.arange(Nx_source) * dx_m * 1e6\n",
    "y_coords_um = np.arange(Ny_source) * dy_m * 1e6\n",
    "z_coords_um = np.arange(Nz_source) * dz_m * 1e6\n",
    "\n",
    "# Tidy3D uses Hertz for frequency\n",
    "# Select only strictly positive frequencies (exclude 0 Hz DC component)\n",
    "positive_freq_mask = freqs > 0\n",
    "frequencies_Hz_positive = freqs[positive_freq_mask] # These are directly in Hz\n",
    "\n",
    "# Define our overall frequency range of interest for plotting/analysis (e.g., optical/IR range)\n",
    "# These are still defined in THz for human readability, but will be converted to Hz for masking\n",
    "MIN_FREQ_THZ_PLOT = 1.0   # e.g., 1 THz\n",
    "MAX_FREQ_THZ_PLOT = 1000.0 # e.g., 1000 THz\n",
    "\n",
    "# Filter frequencies to be within the desired plotting range (in Hz)\n",
    "valid_freq_mask_plot = (frequencies_Hz_positive >= MIN_FREQ_THZ_PLOT * 1e12) & \\\n",
    "                       (frequencies_Hz_positive <= MAX_FREQ_THZ_PLOT * 1e12)\n",
    "\n",
    "# Handle cases where `valid_freq_mask_plot` might be empty (e.g., if chosen range is outside data)\n",
    "if not np.any(valid_freq_mask_plot):\n",
    "    print(f\"WARNING: The plotting frequency range [{MIN_FREQ_THZ_PLOT}-{MAX_FREQ_THZ_PLOT}] THz resulted in no valid frequencies from the FFT output.\")\n",
    "    print(\"Using all available positive frequencies for plotting. Consider adjusting MIN/MAX_FREQ_THZ_PLOT.\")\n",
    "    valid_freq_mask_plot = np.ones_like(frequencies_Hz_positive, dtype=bool) # Use all positive freqs\n",
    "\n",
    "frequencies_Hz_valid_plot = frequencies_Hz_positive[valid_freq_mask_plot]\n",
    "valid_indices_plot = np.where(positive_freq_mask)[0][valid_freq_mask_plot] # Indices from original freqs array\n",
    "\n",
    "# Extract data for plotting/full spectrum reference\n",
    "ex_data_plot = j_fluct_freq_domain['Ex'][:, :, :, valid_indices_plot]\n",
    "ey_data_plot = j_fluct_freq_domain['Ey'][:, :, :, valid_indices_plot]\n",
    "ez_data_plot = j_fluct_freq_domain['Ez'][:, :, :, valid_indices_plot]\n",
    "\n",
    "# Create the full FieldDataset for visualization and selection\n",
    "# Frequencies are passed in Hz to Tidy3D\n",
    "thermal_current_dataset_full = td.FieldDataset(\n",
    "    Ex=td.ScalarFieldDataArray(\n",
    "        ex_data_plot,\n",
    "        coords=dict(x=x_coords_um, y=y_coords_um, z=z_coords_um, f=frequencies_Hz_valid_plot),\n",
    "    ),\n",
    "    Ey=td.ScalarFieldDataArray(\n",
    "        ey_data_plot,\n",
    "        coords=dict(x=x_coords_um, y=y_coords_um, z=z_coords_um, f=frequencies_Hz_valid_plot),\n",
    "    ),\n",
    "    Ez=td.ScalarFieldDataArray(\n",
    "        ez_data_plot,\n",
    "        coords=dict(x=x_coords_um, y=y_coords_um, z=z_coords_um, f=frequencies_Hz_valid_plot),\n",
    "    ),\n",
    ")\n",
    "print(f\"Successfully created Full FieldDataset for plotting/reference.\")\n",
    "print(f\"Full Dataset dimensions (Ex example): {thermal_current_dataset_full.Ex.shape}\")\n",
    "print(f\"Full Frequencies in FieldDataset: {thermal_current_dataset_full.Ex.f.values[0]:.2e} Hz to {thermal_current_dataset_full.Ex.f.values[-1]:.2e} Hz\")\n",
    "print(\"-\" * 30)"
   ]
  },
  {
   "cell_type": "markdown",
   "id": "a49c66f7",
   "metadata": {},
   "source": [
    "#### 7. Create single-Frequency CustomCurrentSource\n",
    "\n",
    "This section of the code is dedicated to setting up and instantiating a tidy3d.CustomCurrentSource object. This is the source that will inject the pre-calculated thermal current fluctuations into your simulation. Although your earlier steps involving the FFT produced a broad spectrum of thermal noise, this particular configuration narrows that down to create a source that emits predominantly at a single, user-defined frequency."
   ]
  },
  {
   "cell_type": "code",
   "execution_count": 98,
   "id": "6581e822",
   "metadata": {},
   "outputs": [
    {
     "name": "stdout",
     "output_type": "stream",
     "text": [
      "Successfully created Single-Frequency FieldDataset for CustomCurrentSource.\n",
      "Single-Freq Dataset dimensions (Ex example): (5, 5, 5, 1)\n",
      "Single-Freq in Dataset: 2.93e+14 Hz\n",
      "------------------------------\n",
      "Source time parameters for GaussianPulse (all in Hz):\n",
      "  Center frequency: 2.93e+14 Hz\n",
      "  Frequency width: 2.93e+12 Hz\n",
      "  Frequency range: 2.92e+14 Hz to 2.94e+14 Hz\n",
      "Successfully created CustomCurrentSource at 2.93e+14 Hz\n",
      "Source center: [np.float64(0.2), np.float64(0.2), np.float64(0.2)] μm\n",
      "Source size: [np.float64(0.49999999999999994), np.float64(0.49999999999999994), np.float64(0.49999999999999994)] μm\n",
      "Source time range (final validation check): 2.92e+14 Hz to 2.94e+14 Hz\n",
      "------------------------------\n"
     ]
    }
   ],
   "source": [
    "#Define the target single frequency for the CustomCurrentSource (e.g., in the optical range)\n",
    "# Define in THz for clarity, then convert to Hz for Tidy3D inputs\n",
    "target_freq_thz_custom_source = 300.0\n",
    "target_freq_hz_custom_source = target_freq_thz_custom_source * 1e12 # Convert to Hz\n",
    "\n",
    "# Ensure target_freq_hz_custom_source is within the range of our available data\n",
    "if len(thermal_current_dataset_full.Ex.f.values) == 0:\n",
    "    raise ValueError(\"No valid frequencies in the full dataset to select a target frequency from.\")\n",
    "\n",
    "# Find the index of the closest frequency in our valid data (which is in Hz now)\n",
    "freq_idx_custom_source = np.argmin(np.abs(thermal_current_dataset_full.Ex.f.values - target_freq_hz_custom_source))\n",
    "\n",
    "# Extract data for the *single* selected frequency, preserving all spatial dimensions\n",
    "single_freq_data_ex = thermal_current_dataset_full.Ex.values[:, :, :, freq_idx_custom_source:freq_idx_custom_source+1]\n",
    "single_freq_data_ey = thermal_current_dataset_full.Ey.values[:, :, :, freq_idx_custom_source:freq_idx_custom_source+1]\n",
    "single_freq_data_ez = thermal_current_dataset_full.Ez.values[:, :, :, freq_idx_custom_source:freq_idx_custom_source+1]\n",
    "\n",
    "single_freq_frequencies_hz = thermal_current_dataset_full.Ex.f.values[freq_idx_custom_source:freq_idx_custom_source+1]\n",
    "\n",
    "# Create the FieldDataset specifically for the CustomCurrentSource (containing only ONE frequency)\n",
    "# Frequencies are passed in Hz to Tidy3D\n",
    "single_freq_dataset = td.FieldDataset(\n",
    "    Ex=td.ScalarFieldDataArray(\n",
    "        single_freq_data_ex,\n",
    "        coords=dict(\n",
    "            x=x_coords_um,\n",
    "            y=y_coords_um,\n",
    "            z=z_coords_um,\n",
    "            f=single_freq_frequencies_hz # This array has only one frequency, in Hz\n",
    "        ),\n",
    "    ),\n",
    "    Ey=td.ScalarFieldDataArray(\n",
    "        single_freq_data_ey,\n",
    "        coords=dict(\n",
    "            x=x_coords_um,\n",
    "            y=y_coords_um,\n",
    "            z=z_coords_um,\n",
    "            f=single_freq_frequencies_hz\n",
    "        ),\n",
    "    ),\n",
    "    Ez=td.ScalarFieldDataArray(\n",
    "        single_freq_data_ez, # FIX: Corrected from ez_data_plot to single_freq_data_ez\n",
    "        coords=dict(\n",
    "            x=x_coords_um,\n",
    "            y=y_coords_um,\n",
    "            z=z_coords_um,\n",
    "            f=single_freq_frequencies_hz\n",
    "        ),\n",
    "    ),\n",
    ")\n",
    "print(f\"Successfully created Single-Frequency FieldDataset for CustomCurrentSource.\")\n",
    "print(f\"Single-Freq Dataset dimensions (Ex example): {single_freq_dataset.Ex.shape}\")\n",
    "print(f\"Single-Freq in Dataset: {single_freq_dataset.Ex.f.values[0]:.2e} Hz\")\n",
    "print(\"-\" * 30)\n",
    "\n",
    "# Source geometry parameters (in microns)\n",
    "source_center = [np.mean(x_coords_um), np.mean(y_coords_um), np.mean(z_coords_um)]\n",
    "source_size = [\n",
    "    x_coords_um[-1] - x_coords_um[0] + dx_m * 1e6 if len(x_coords_um) > 1 else dx_m * 1e6,\n",
    "    y_coords_um[-1] - y_coords_um[0] + dy_m * 1e6 if len(y_coords_um) > 1 else dy_m * 1e6,\n",
    "    z_coords_um[-1] - z_coords_um[0] + dz_m * 1e6 if len(z_coords_um) > 1 else dz_m * 1e6\n",
    "]\n",
    "\n",
    "# Define source_time parameters for GaussianPulse (freq0 and fwidth are in Hz)\n",
    "# We'll use the exact frequency from our single-freq dataset.\n",
    "freq0_hz_for_pulse = single_freq_frequencies_hz[0]\n",
    "fwidth_hz_for_pulse = freq0_hz_for_pulse * 0.01 # Small width, e.g., 1% of center frequency\n",
    "\n",
    "# Explicitly ensure freq0 is above the validator's threshold (which is in Hz)\n",
    "MIN_FREQ_HZ_TIDY3D_VALIDATOR = 1e5 # Tidy3D's internal minimum in Hz\n",
    "if freq0_hz_for_pulse < MIN_FREQ_HZ_TIDY3D_VALIDATOR:\n",
    "    print(f\"WARNING: Calculated freq0 ({freq0_hz_for_pulse:.2e} Hz) is below Tidy3D's minimum of {MIN_FREQ_HZ_TIDY3D_VALIDATOR:.0e} Hz. Clamping.\")\n",
    "    freq0_hz_for_pulse = MIN_FREQ_HZ_TIDY3D_VALIDATOR # Set to minimum acceptable Hz value\n",
    "    # Adjust fwidth proportionally or set to a sensible minimum if freq0 was clamped\n",
    "    fwidth_hz_for_pulse = max(fwidth_hz_for_pulse, freq0_hz_for_pulse * 0.01) # Ensure some width if clamped\n",
    "\n",
    "# Create the GaussianPulse with the adjusted parameters (all in Hz now)\n",
    "source_time = td.GaussianPulse(\n",
    "    freq0=freq0_hz_for_pulse,\n",
    "    fwidth=fwidth_hz_for_pulse,\n",
    ")\n",
    "\n",
    "print(f\"Source time parameters for GaussianPulse (all in Hz):\")\n",
    "print(f\"  Center frequency: {source_time.freq0:.2e} Hz\")\n",
    "print(f\"  Frequency width: {source_time.fwidth:.2e} Hz\")\n",
    "print(f\"  Frequency range: {source_time.freq0 - source_time.fwidth/2:.2e} Hz to {source_time.freq0 + source_time.fwidth/2:.2e} Hz\")\n",
    "\n",
    "# Create the CustomCurrentSource\n",
    "thermal_custom_source = td.CustomCurrentSource(\n",
    "    current_dataset=single_freq_dataset, # Pass the single-frequency dataset\n",
    "    center=source_center,\n",
    "    size=source_size,\n",
    "    source_time=source_time,\n",
    "    name=\"thermal_source_single_freq\"\n",
    ")\n",
    "\n",
    "print(f\"Successfully created CustomCurrentSource at {single_freq_frequencies_hz[0]:.2e} Hz\")\n",
    "print(f\"Source center: {source_center} μm\")\n",
    "print(f\"Source size: {source_size} μm\")\n",
    "print(f\"Source time range (final validation check): {source_time.freq0 - source_time.fwidth/2:.2e} Hz to {source_time.freq0 + source_time.fwidth/2:.2e} Hz\")\n",
    "print(\"-\" * 30)\n"
   ]
  },
  {
   "cell_type": "markdown",
   "id": "f11ae5d9",
   "metadata": {},
   "source": [
    "#### 8. Visualisation"
   ]
  },
  {
   "cell_type": "code",
   "execution_count": 99,
   "id": "8fadd0fa",
   "metadata": {},
   "outputs": [
    {
     "data": {
      "image/png": "[encoded data removed]",
      "text/plain": [
       "<Figure size 1000x600 with 1 Axes>"
      ]
     },
     "metadata": {},
     "output_type": "display_data"
    },
    {
     "name": "stdout",
     "output_type": "stream",
     "text": [
      "Simulation size: (5.0, 5.0, 5.0) μm\n",
      "Grid resolution: <bound method GridSpec._dl_min of GridSpec(attrs={}, grid_x=UniformGrid(attrs={}, type='UniformGrid', dl=0.1), grid_y=UniformGrid(attrs={}, type='UniformGrid', dl=0.1), grid_z=UniformGrid(attrs={}, type='UniformGrid', dl=0.1), wavelength=None, override_structures=(), snapping_points=(), layer_refinement_specs=(), type='GridSpec')> μm\n",
      "------------------------------\n"
     ]
    }
   ],
   "source": [
    "\n",
    "plt.figure(figsize=(10, 6))\n",
    "# Plotting with frequencies in THz for better human readability\n",
    "plt.plot(thermal_current_dataset_full.Ex.f.values / 1e12, np.mean(np.abs(thermal_current_dataset_full.Ex.values), axis=(0,1,2)), label='Ex spectrum (Full Range)')\n",
    "plt.axvline(x=single_freq_frequencies_hz[0] / 1e12, color='r', linestyle='--', label=f'Selected frequency ({single_freq_frequencies_hz[0]/1e12:.2f} THz)')\n",
    "plt.xlabel('Frequency (THz)')\n",
    "plt.ylabel('Amplitude (arb. units)')\n",
    "plt.title('Thermal Current Frequency Spectrum')\n",
    "plt.legend()\n",
    "plt.grid(True)\n",
    "plt.show()\n",
    "plt.close() # Close the figure to free up memory\n",
    "\n",
    "# --- 9. Example Simulation Setup ---\n",
    "sim = td.Simulation(\n",
    "    size=(5, 5, 5),\n",
    "    grid_spec=td.GridSpec.uniform(dl=0.1),\n",
    "    structures=[],\n",
    "    sources=[thermal_custom_source],\n",
    "    monitors=[],\n",
    "    run_time=1e-12, # seconds\n",
    "    boundary_spec=td.BoundarySpec.all_sides(boundary=td.PML())\n",
    ")\n",
    "\n",
    "print(f\"Simulation size: {sim.size} μm\")\n",
    "print(f\"Grid resolution: {sim.grid_spec._dl_min} μm\") # FIX: Corrected attribute name\n",
    "print(\"-\" * 30)"
   ]
  }
 ],
 "metadata": {
  "kernelspec": {
   "display_name": "venv",
   "language": "python",
   "name": "python3"
  },
  "language_info": {
   "codemirror_mode": {
    "name": "ipython",
    "version": 3
   },
   "file_extension": ".py",
   "mimetype": "text/x-python",
   "name": "python",
   "nbconvert_exporter": "python",
   "pygments_lexer": "ipython3",
   "version": "3.12.3"
  }
 },
 "nbformat": 4,
 "nbformat_minor": 5
}
